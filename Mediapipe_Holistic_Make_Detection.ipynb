{
 "cells": [
  {
   "cell_type": "markdown",
   "id": "fe02a76b",
   "metadata": {},
   "source": [
    "# 0) Install and Import Dependencies"
   ]
  },
  {
   "cell_type": "markdown",
   "id": "33009a02",
   "metadata": {},
   "source": [
    "!pip install mediapipe opencv-python"
   ]
  },
  {
   "cell_type": "code",
   "execution_count": 1,
   "id": "ed200e2e",
   "metadata": {},
   "outputs": [],
   "source": [
    "import mediapipe as mp\n",
    "import cv2"
   ]
  },
  {
   "cell_type": "code",
   "execution_count": 2,
   "id": "25f74d32",
   "metadata": {},
   "outputs": [],
   "source": [
    "# drawing deferents détection from holistic model\n",
    "mp_drawing = mp.solutions.drawing_utils\n",
    "# importing holistic model\n",
    "mp_holistic = mp.solutions.holistic"
   ]
  },
  {
   "cell_type": "markdown",
   "id": "0d7b4eaf",
   "metadata": {},
   "source": [
    "# 1) Make Detections"
   ]
  },
  {
   "cell_type": "code",
   "execution_count": 3,
   "id": "e6609d92",
   "metadata": {},
   "outputs": [],
   "source": [
    "# geting our video capture device\n",
    "cap = cv2.VideoCapture(0)\n",
    "# Initiate holistic model\n",
    "with mp_holistic.Holistic(min_detection_confidence=0.5, min_tracking_confidence=0.5) as holistic:\n",
    "    # While our video captur is open \n",
    "    while cap.isOpened():\n",
    "        # read the video capture\n",
    "        ret, frame = cap.read()\n",
    "        # Recolor Feed\n",
    "        image = cv2.cvtColor(frame,cv2.COLOR_BGR2RGB)\n",
    "        #Make Detections\n",
    "        results = holistic.process(image)\n",
    "        # Recolor image back to BGR for rendering\n",
    "        image = cv2.cvtColor(image, cv2.COLOR_RGB2BGR)\n",
    "        # Draw face landmarks\n",
    "        mp_drawing.draw_landmarks(image, results.face_landmarks, mp_holistic.FACEMESH_CONTOURS,\n",
    "                                 mp_drawing.DrawingSpec(color=(80,110,10), thickness=1, circle_radius=1),\n",
    "                                 mp_drawing.DrawingSpec(color=(80,256,121), thickness=1, circle_radius=1))\n",
    "        # Draw Right Hand\n",
    "        mp_drawing.draw_landmarks(image, results.right_hand_landmarks, mp_holistic.HAND_CONNECTIONS,\n",
    "                                 mp_drawing.DrawingSpec(color=(80,22,10), thickness=2, circle_radius=2),\n",
    "                                 mp_drawing.DrawingSpec(color=(80,44,121), thickness=2, circle_radius=2))\n",
    "        # Draw Left Hand\n",
    "        mp_drawing.draw_landmarks(image, results.left_hand_landmarks, mp_holistic.HAND_CONNECTIONS,\n",
    "                                 mp_drawing.DrawingSpec(color=(121,22,76), thickness=2, circle_radius=2),\n",
    "                                 mp_drawing.DrawingSpec(color=(121,44,250), thickness=2, circle_radius=2))\n",
    "        # Draw Pose Detection\n",
    "        mp_drawing.draw_landmarks(image, results.pose_landmarks, mp_holistic.POSE_CONNECTIONS,\n",
    "                                 mp_drawing.DrawingSpec(color=(245,117,66), thickness=1, circle_radius=1),\n",
    "                                 mp_drawing.DrawingSpec(color=(245,66,230), thickness=1, circle_radius=1))\n",
    "        # render the resolts to the screan\n",
    "        cv2.imshow('you are being recorded', image)\n",
    "        # exit if we press 'q'\n",
    "        if cv2.waitKey(10) & 0xFF == ord('q'):\n",
    "            break\n",
    "cap.release()\n",
    "cv2.destroyAllWindows()"
   ]
  },
  {
   "cell_type": "code",
   "execution_count": null,
   "id": "718f2581",
   "metadata": {},
   "outputs": [],
   "source": []
  }
 ],
 "metadata": {
  "kernelspec": {
   "display_name": "Python 3 (ipykernel)",
   "language": "python",
   "name": "python3"
  },
  "language_info": {
   "codemirror_mode": {
    "name": "ipython",
    "version": 3
   },
   "file_extension": ".py",
   "mimetype": "text/x-python",
   "name": "python",
   "nbconvert_exporter": "python",
   "pygments_lexer": "ipython3",
   "version": "3.9.7"
  }
 },
 "nbformat": 4,
 "nbformat_minor": 5
}
